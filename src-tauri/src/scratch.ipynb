{
 "cells": [
  {
   "cell_type": "code",
   "execution_count": 8,
   "metadata": {},
   "outputs": [
    {
     "data": {
      "text/plain": [
       "\"\\n\\n## 3 Mass and Weight\\n\\nIn SI, _kilograms_ are used for mass and _neutrons_ for weight (force). The units are different, and there is no confusion between the variables. However, for years the term _pound_ has been used for both mass and weight. This usage has obscured the distinction between the two: mass is a constant property of an object; weight varies with the gravitational field. Even the conventional use of the abbreviations _lm_ and _lf_(_to_distinguish between pounds-mass and pounds-force) has not helped eliminate the confusion.\\n\\nIt is true that an object with a mass of one pound will have an earthly weight of one pound, but this is true only on the earth. The weight of the same object will be much less on the moon. Therefore, care must be taken when working with mass and force in the same problem.\\n\\nThe relationship that converts mass to weight is familiar to every engineering student.\\n\\n\\\\[W = m_{\\\\mathit{\\\\mathit{\\\\mathit{\\\\mathit{\\\\mathit{\\\\mathit{\\\\mathit{\\\\mathit{\\\\mathit{\\\\mathit{ \\\\mathit{\\\\mathit{\\\\mathit{\\\\mathit{\\\\mathit{\\\\mathit{\\\\mathit{\\\\mathit{\\\\mathit{\\\\mathit{\\\\mathit{\\\\mathit{\\\\mathit{\\\\mathit{ \\\\mathit{ \\\\mathit{ } }}}}}}}}}}}}}}}}}}\\\\]\\n\\nEquation 1.1 illustrates that an object's weight will depend on the local acceleration of gravity as well as the object's mass. The mass will be constant, but gravity will depend on location. Mass and weight are not the same.\\n\\n## 4 Acceleration of Gravity\\n\\nGravitational acceleration on the earth's surface is usually taken as 32.2 f/sec2 or 9.81 m/s. These values are rounded from the more precise values of 32.1740 f/sec2 and 9.806 65 m/s2. However, the need for greater accuracy must be evaluated on a problem-by-problem basis.\\n\\nUsually, three significant digits are adequate, since gravitational acceleration is not constant anyway but is affected by\""
      ]
     },
     "execution_count": 8,
     "metadata": {},
     "output_type": "execute_result"
    }
   ],
   "source": [
    "from huggingface_hub import hf_hub_download\n",
    "import re\n",
    "from PIL import Image\n",
    "\n",
    "from transformers import NougatProcessor, VisionEncoderDecoderModel\n",
    "from datasets import load_dataset\n",
    "import torch\n",
    "\n",
    "processor = NougatProcessor.from_pretrained(\"facebook/nougat-base\")\n",
    "model = VisionEncoderDecoderModel.from_pretrained(\"facebook/nougat-base\")\n",
    "\n",
    "device = \"cuda\" if torch.cuda.is_available() else \"cpu\"\n",
    "model.to(device)\n",
    "# prepare PDF image for the model\n",
    "filepath = \"IMG_8044.png\"\n",
    "image = Image.open(filepath)\n",
    "pixel_values = processor(image, return_tensors=\"pt\").pixel_values\n",
    "\n",
    "# generate transcription (here we only generate 30 tokens)\n",
    "outputs = model.generate(\n",
    "    pixel_values.to(device),\n",
    "    min_length=1,\n",
    "    max_new_tokens=500,\n",
    "    bad_words_ids=[[processor.tokenizer.unk_token_id]],\n",
    ")\n",
    "\n",
    "sequence = processor.batch_decode(outputs, skip_special_tokens=True)[0]\n",
    "sequence = processor.post_process_generation(sequence, fix_markdown=False)\n",
    "# note: we're using repr here such for the sake of printing the \\n characters, feel free to just print the sequence\n",
    "repr(sequence)"
   ]
  }
 ],
 "metadata": {
  "kernelspec": {
   "display_name": "Python 3",
   "language": "python",
   "name": "python3"
  },
  "language_info": {
   "codemirror_mode": {
    "name": "ipython",
    "version": 3
   },
   "file_extension": ".py",
   "mimetype": "text/x-python",
   "name": "python",
   "nbconvert_exporter": "python",
   "pygments_lexer": "ipython3",
   "version": "3.11.7"
  }
 },
 "nbformat": 4,
 "nbformat_minor": 2
}
